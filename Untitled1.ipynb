{
  "nbformat": 4,
  "nbformat_minor": 0,
  "metadata": {
    "colab": {
      "provenance": [],
      "authorship_tag": "ABX9TyPrYkmoOUaYgrE3kxKR/kw4",
      "include_colab_link": true
    },
    "kernelspec": {
      "name": "python3",
      "display_name": "Python 3"
    },
    "language_info": {
      "name": "python"
    }
  },
  "cells": [
    {
      "cell_type": "markdown",
      "metadata": {
        "id": "view-in-github",
        "colab_type": "text"
      },
      "source": [
        "<a href=\"https://colab.research.google.com/github/JonnyGomes/a3-programacao/blob/master/Untitled1.ipynb\" target=\"_parent\"><img src=\"https://colab.research.google.com/assets/colab-badge.svg\" alt=\"Open In Colab\"/></a>"
      ]
    },
    {
      "cell_type": "code",
      "execution_count": 3,
      "metadata": {
        "colab": {
          "base_uri": "https://localhost:8080/"
        },
        "id": "Zs2aD_Et27l6",
        "outputId": "33333125-cd6e-42dc-e01a-a98c75f94fd4"
      },
      "outputs": [
        {
          "output_type": "stream",
          "name": "stdout",
          "text": [
            "Digite a primeira nota: 4\n",
            "Digite a segunda nota: 7\n",
            "Digite a terceira nota: 7\n",
            "A média do aluno é: 6.00\n",
            "O aluno está Recuperação!.\n"
          ]
        }
      ],
      "source": [
        "\n",
        "def calcular_media(nota1, nota2, nota3):\n",
        "    media = (nota1 + nota2 + nota3) / 3\n",
        "    return media\n",
        "\n",
        "\n",
        "def verificar_status(media):\n",
        "    if media >= 7:\n",
        "        return \"Aprovado!\"\n",
        "    else:\n",
        "        return \"Recuperação!\"\n",
        "\n",
        "\n",
        "nota1 = float(input(\"Digite a primeira nota: \"))\n",
        "nota2 = float(input(\"Digite a segunda nota: \"))\n",
        "nota3 = float(input(\"Digite a terceira nota: \"))\n",
        "\n",
        "media = calcular_media(nota1, nota2, nota3)\n",
        "\n",
        "status = verificar_status(media)\n",
        "\n",
        "print(f\"A média do aluno é: {media:.2f}\")\n",
        "print(f\"O aluno está {status}.\")\n"
      ]
    }
  ]
}